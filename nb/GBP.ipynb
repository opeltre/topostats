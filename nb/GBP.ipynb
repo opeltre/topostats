{
 "cells": [
  {
   "cell_type": "code",
   "execution_count": 1,
   "metadata": {},
   "outputs": [],
   "source": [
    "import torch\n",
    "import nbsetup "
   ]
  },
  {
   "cell_type": "markdown",
   "metadata": {},
   "source": [
    "# Diffusions and Convergence\n",
    "\n",
    "In this notebook, we assess the convergence benefits brought over the Generalised Belief Propagation algorithm \n",
    "by the GBP and Bethe $\\varepsilon$-diffusions [[1][gsi21]], for estimating marginals of graphical models on a hypergraph $(\\Omega, K)$ of random variables, i.e. probability distributions $p_\\Omega$ on a joint variable $x_\\Omega = (x_i)_{i \\in \\Omega}$ that factorise as a product of local factors $f_\\alpha$ for $\\alpha \\subseteq \\Omega$:\n",
    "\n",
    "$$ p_\\Omega(x_\\Omega) = \\frac 1 {Z_\\Omega} \\prod_{\\alpha \\in K} f_\\alpha (x_\\alpha) \n",
    "= \\frac 1 {Z_\\Omega} {\\rm e}^{- \\sum_\\alpha u_\\alpha(x_\\alpha)} \n",
    "$$\n",
    "\n",
    "## System\n",
    "\n",
    "The chosen hypergraph $(\\Omega, K)$ is the $\\cap$-closure of three triangles $ijk$, $ikl$ and $jkl$. This is the simplest hypergraph for which GBP does not surely converge to a unique equilibrium. The `System` constructor receives an iterable of strings of the form `i:j:k` to represent faces $\\alpha \\in K$ of the hypergraph, i.e. collections $\\alpha \\subset \\Omega$ of vertices. \n",
    "\n",
    "[gsi21]: https://opeltre.github.io/bib/gsi21.pdf"
   ]
  },
  {
   "cell_type": "code",
   "execution_count": 2,
   "metadata": {},
   "outputs": [
    {
     "name": "stdout",
     "output_type": "stream",
     "text": [
      "Ω: (i:j:k:l)\n",
      "K: ((i:j:k),(i:k),(i:k:l),(j:k),(j:k:l),(k),(k:l))\n"
     ]
    }
   ],
   "source": [
    "from system import System\n",
    "\n",
    "K = System(('i:j:k', 'j:k:l', 'i:k:l'), shape=2)\n",
    "\n",
    "# vertices:\n",
    "print(f\"\\u03A9: {K.vertices()}\")\n",
    "# faces:\n",
    "print(f\"K: {K}\")"
   ]
  },
  {
   "cell_type": "markdown",
   "metadata": {},
   "source": [
    "![factor graph for the 2-horn](img/GM.svg)"
   ]
  },
  {
   "cell_type": "markdown",
   "metadata": {},
   "source": [
    "The returned `System` instance `K` constructs $n$ sets of keys `K[0], ..., K[n]` representing the _nerve_ of the partial order $(K, \\supseteq)$. "
   ]
  },
  {
   "cell_type": "code",
   "execution_count": 3,
   "metadata": {},
   "outputs": [
    {
     "name": "stdout",
     "output_type": "stream",
     "text": [
      "(j:k:l) . (k:l) . (k)\n",
      "(j:k:l) . (j:k) . (k)\n",
      "(i:j:k) . (i:k) . (k)\n",
      "(i:j:k) . (j:k) . (k)\n",
      "(i:k:l) . (i:k) . (k)\n",
      "(i:k:l) . (k:l) . (k)\n"
     ]
    }
   ],
   "source": [
    "# 2-nerve:\n",
    "for chain in K[2]:\n",
    "    print(chain)"
   ]
  },
  {
   "cell_type": "markdown",
   "metadata": {},
   "source": [
    "The `shape` attribute describes possible values of each individual degree of freedom $x_i \\in E_i$ for all $i \\in \\Omega$. The faces $\\alpha \\subseteq \\Omega$ of $K$ are consequently assigned a local configuration space $E_\\alpha = \\prod_{i \\in \\alpha} E_i$. The `shape` parameter can be passed as a dictionary of atomic shapes indexed by vertices. Systems are binary by default, other constant integer values `shape=n` being interpreted as $E_i = \\{0, \\dots, n-1\\}$ for all $i$. \n"
   ]
  },
  {
   "cell_type": "markdown",
   "metadata": {},
   "source": [
    "## Fields \n",
    "\n",
    "Degree-$p$ _fields_ $\\varphi \\in A_p$ are represented by dictionaries mapping every chain $\\alpha_0\\dots \\alpha_p$ in `K[p]` to a tensor representing a local function on $E_{\\alpha_p}$: \n",
    "\n",
    "$$ A_p = \\prod_{\\alpha_0 \\supset \\dots \\supset \\alpha_p} {\\mathbb R}^{E_{\\alpha_p}} \n",
    "= \\prod_{\\alpha_0 \\supset \\dots \\supset \\alpha_p} A_{\\alpha_p} $$\n",
    "\n",
    "Degree-0 fields or _potentials_ $u \\in A_0$ are therefore collections of local functions $u_\\alpha(x_\\alpha)$ indexed by faces $\\alpha$ of $K$. \n",
    "\n",
    "Degree-1 fields or _fluxes_ $\\varphi \\in A_1$ are collections of local functions $\\varphi_{\\alpha\\beta}(x_\\beta)$ \n",
    "indexed by pairs $\\alpha \\supset \\beta$ in $K$. \n",
    "\n",
    "Degree-$p$ fields can be created by calling `K.gaussian(p)` or `K.zeros(p)`, which return `Tensor` instances."
   ]
  },
  {
   "cell_type": "code",
   "execution_count": 4,
   "metadata": {},
   "outputs": [
    {
     "data": {
      "text/plain": [
       "Tensor {\n",
       "(i:j:k) . (i:k) . (k) :-> tensor([0.1599, 0.6350])\n",
       "(i:j:k) . (j:k) . (k) :-> tensor([2.0954, 1.2959])\n",
       "(i:k:l) . (i:k) . (k) :-> tensor([1.8487, 0.3176])\n",
       "(i:k:l) . (k:l) . (k) :-> tensor([-0.4168,  0.8201])\n",
       "(j:k:l) . (j:k) . (k) :-> tensor([-0.0009, -0.3842])\n",
       "(j:k:l) . (k:l) . (k) :-> tensor([-0.5940,  0.2935])\n",
       "}"
      ]
     },
     "execution_count": 4,
     "metadata": {},
     "output_type": "execute_result"
    }
   ],
   "source": [
    "# 2-Field:\n",
    "K.gaussian(2)"
   ]
  },
  {
   "cell_type": "markdown",
   "metadata": {},
   "source": [
    "Natural operators on $K$ are also represented as higher dimensional tensors: \n",
    "\n",
    "### differential and codifferential\n",
    "\n",
    "$-$ The two adjoint _differentials_ $d = \\delta^*$ for the canonical metric on $A_\\bullet$ are returned `K.d(n)` and `K.delta(n + 1)`, where $d^{(n)} : A_n \\to  A_{n+1}$ elevates and $\\delta^{(n+1)} : A_{n+1} \\to A_n$ lowers field degrees. They satisfy $d \\circ d = 0 = \\delta \\circ \\delta$ as operators on the full complex $A_\\bullet = \\oplus_n A_n$. The degree $0$ differential $d$ acts on a density $q \\in A_0$ by: \n",
    "\n",
    "$$ (q_\\alpha) \\mapsto (dq_{\\alpha\\beta}) \\quad{\\rm where}\\quad \n",
    "dq_{\\alpha\\beta}(x_\\beta) = q_\\beta(x_\\beta) - \\sum_{y \\in E_{\\alpha\\setminus \\beta}} q_\\alpha(x_\\beta, y) $$ \n",
    "\n",
    "measuring the inconsistency between local beliefs and marginals from their parent faces. _Consistent beliefs_ \n",
    "$q \\in \\Gamma$ are local probability measures $q_\\alpha \\in {\\rm Prob}(E_\\alpha)$ indexed by $\\alpha \\in K$, satisfying the consistency constraint $dq = 0$."
   ]
  },
  {
   "cell_type": "markdown",
   "metadata": {},
   "source": [
    "### combinatorial automorphisms\n",
    "\n",
    "$-$ The fundamental _automorphisms_ $\\zeta$ and $\\mu$ induced by the order $\\supseteq$ on $K$\n",
    "are returned by `K.zeta(n)` and `K.mu(n)`, where $\\zeta^{(n)} : A_n \\to A_n$ is inverted by $\\mu^{(n)}$.\n",
    "The zeta transorm, initially introduced in number theory by Dirichlet, and Möbius inversion formulas are related inclusion-exclusion principles in combinatorics. The correspondence $\\zeta : A_0 \\to A_0$ defined by: \n",
    "\n",
    "$$(u_\\beta) \\mapsto (U_\\alpha) \\quad{\\rm where}\\quad U_\\alpha(x_\\alpha) = \\sum_{\\beta \\subseteq \\alpha} u_\\beta(x_\\beta)$$ \n",
    "\n",
    "is therefore invertible by $\\mu : A_0 \\to A_0$."
   ]
  },
  {
   "cell_type": "markdown",
   "metadata": {},
   "source": [
    "## Diffusion\n",
    "\n",
    "Diffusions are associated to transport equations on potentials $u \\in A_0$ for smooth flux functionals \n",
    "$\\Phi : A_0 \\to A_1$ of the form:\n",
    "\n",
    "$$ \\frac {du_\\beta} {dt}(x_\\beta) = \n",
    "\\sum_{\\alpha \\supset \\beta} \\Phi(u)_{\\alpha\\beta}(x_\\beta) \n",
    "- \\sum_{\\gamma \\subset \\beta} \\Phi(u)_{\\beta\\gamma}(x_\\gamma)$$ \n",
    "\n",
    "or written more succintly as $\\dot u = \\delta \\Phi(u)$, \n",
    "where the _divergence_ operator $\\delta : A_1 \\to A_0$ conserves the total energy $\\sum_\\alpha u_\\alpha$. \n",
    "\n",
    "Given a time-step $\\varepsilon > 0$, diffusion algorithms consist\n",
    "of iterating $u$ `+=` $\\varepsilon \\cdot \\delta \\Phi(u)$ until the local beliefs defined by:\n",
    "$$ q_\\alpha(x_\\alpha) = \\frac 1 {Z_\\alpha} {\\rm e}^{-U_\\alpha(x_\\alpha)}\n",
    "\\quad{\\rm where}\\quad U_\\alpha = \\sum_{\\beta \\subseteq \\alpha}u_\\beta $$\n",
    "eventually reach a consistent stationary state $q \\in \\Gamma$. "
   ]
  },
  {
   "cell_type": "markdown",
   "metadata": {},
   "source": [
    "### flux functionals\n",
    "\n",
    "Different flux functionals $\\Phi : A_0 \\to A_1$ \n",
    "can be used to that end, provided they vanish on the preimage $A_0^\\Gamma \\subset A_0$ of $\\Gamma$, and preferably _only_ on $A_0^\\Gamma$. \n",
    "\n",
    "Such functionals are generally constructed by compositions of the _effective energy gradient_ \n",
    "${\\cal D} : A_0 \\to A_1$, acting on local hamiltonians $U \\in A_0$ by: \n",
    "\n",
    "$$ {\\cal D} U_{\\alpha\\beta}(x_\\beta) = U_\\beta(x_\\beta) \n",
    "+ \\ln \\sum_{y \\in E_{\\alpha \\setminus \\beta}} {\\rm e}^{-U_\\alpha(x_\\beta, y)} $$\n",
    "\n",
    "$-$ Bethe $\\varepsilon$-diffusion consists of iterating $u$ `+=` $\\varepsilon \\cdot \\delta \\phi(u)$ with: \n",
    "\n",
    "$$ \\phi_{\\alpha\\beta}(x_\\beta) = c_\\alpha \\Phi_{\\alpha\\beta}(x_\\beta) $$\n",
    "\n",
    "The Bethe numbers are related to inclusion-exclusion principles on $K$ and eliminate redundant components in\n",
    "GBP heat flux $\\Phi$. Both algorithms are available as `Diffusion` instances from the integrator module. "
   ]
  },
  {
   "cell_type": "markdown",
   "metadata": {},
   "source": [
    "The Bethe numbers $c_\\beta \\in {\\mathbb Z}$ are the unique scalar coefficients on $K$ satisfying for all $\\beta$: \n",
    "\n",
    "$$\\sum_{\\alpha \\supseteq \\beta} c_\\alpha = 1$$"
   ]
  },
  {
   "cell_type": "code",
   "execution_count": 5,
   "metadata": {},
   "outputs": [],
   "source": [
    "# K.bethe"
   ]
  }
 ],
 "metadata": {
  "kernelspec": {
   "display_name": "Python 3",
   "language": "python",
   "name": "python3"
  },
  "language_info": {
   "codemirror_mode": {
    "name": "ipython",
    "version": 3
   },
   "file_extension": ".py",
   "mimetype": "text/x-python",
   "name": "python",
   "nbconvert_exporter": "python",
   "pygments_lexer": "ipython3",
   "version": "3.9.1"
  }
 },
 "nbformat": 4,
 "nbformat_minor": 4
}
