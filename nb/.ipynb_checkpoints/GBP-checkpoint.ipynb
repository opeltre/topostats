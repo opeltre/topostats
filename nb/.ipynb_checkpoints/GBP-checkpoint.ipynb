{
 "cells": [
  {
   "cell_type": "code",
   "execution_count": 13,
   "metadata": {},
   "outputs": [],
   "source": [
    "import torch\n",
    "import nbsetup "
   ]
  },
  {
   "cell_type": "markdown",
   "metadata": {},
   "source": [
    "# Diffusions and Convergence\n",
    "\n",
    "In this notebook, we assess the convergence benefits brought over the Generalised Belief Propagation algorithm \n",
    "by the GBP and Bethe $\\varepsilon$-diffusions [[1][gsi21]], for estimating marginals of graphical models on a hypergraph $(\\Omega, K)$ of random variables, i.e. probability distributions $p_\\Omega$ on a joint variable $x_\\Omega = (x_i)_{i \\in \\Omega}$ that factorise as a product of local factors $f_\\alpha$ for $\\alpha \\subseteq \\Omega$:\n",
    "\n",
    "$$ p_\\Omega(x_\\Omega) = \\frac 1 {Z_\\Omega} \\prod_{\\alpha \\in K} f_\\alpha (x_\\alpha) \n",
    "= \\frac 1 {Z_\\Omega} {\\rm e}^{- \\sum_\\alpha u_\\alpha(x_\\alpha)} \n",
    "$$\n",
    "\n",
    "## System\n",
    "\n",
    "The chosen hypergraph $(\\Omega, K)$ is the $\\cap$-closure of three triangles $ijk$, $ikl$ and $jkl$. This is the simplest hypergraph for which GBP does not surely converge to a unique equilibrium. The `System` constructor receives an iterable of strings of the form `i:j:k` to represent faces $\\alpha \\in K$ of the hypergraph, i.e. collections $\\alpha \\subset \\Omega$ of vertices. \n",
    "\n",
    "[gsi21]: https://opeltre.github.io/bib/gsi21.pdf"
   ]
  },
  {
   "cell_type": "code",
   "execution_count": 14,
   "metadata": {},
   "outputs": [
    {
     "name": "stdout",
     "output_type": "stream",
     "text": [
      "Ω: (i:j:k:l)\n",
      "K: ((i:j:k),(i:k),(i:k:l),(j:k),(j:k:l),(k),(k:l))\n"
     ]
    }
   ],
   "source": [
    "from system import System\n",
    "\n",
    "K = System(('i:j:k', 'j:k:l', 'i:k:l'), shape=2)\n",
    "\n",
    "# vertices:\n",
    "print(f\"\\u03A9: {K.vertices()}\")\n",
    "# faces:\n",
    "print(f\"K: {K}\")"
   ]
  },
  {
   "cell_type": "markdown",
   "metadata": {},
   "source": [
    "![factor graph for the 2-horn](img/GM.svg)"
   ]
  },
  {
   "cell_type": "markdown",
   "metadata": {},
   "source": [
    "The returned `System` instance `K` constructs $n$ sets of keys `K[0], ..., K[n]` representing the _nerve_ of the partial order $(K, \\supseteq)$. "
   ]
  },
  {
   "cell_type": "code",
   "execution_count": 3,
   "metadata": {},
   "outputs": [
    {
     "name": "stdout",
     "output_type": "stream",
     "text": [
      "(i:k:l) . (k:l) . (k)\n",
      "(i:k:l) . (i:k) . (k)\n",
      "(i:j:k) . (j:k) . (k)\n",
      "(i:j:k) . (i:k) . (k)\n",
      "(j:k:l) . (k:l) . (k)\n",
      "(j:k:l) . (j:k) . (k)\n"
     ]
    }
   ],
   "source": [
    "# 2-nerve:\n",
    "for chain in K[2]:\n",
    "    print(chain)"
   ]
  },
  {
   "cell_type": "markdown",
   "metadata": {},
   "source": [
    "The `shape` attribute describes possible values of each individual degree of freedom $x_i \\in E_i$ for all $i \\in \\Omega$. The faces $\\alpha \\subseteq \\Omega$ of $K$ are consequently assigned a local configuration space $E_\\alpha = \\prod_{i \\in \\alpha} E_i$. The `shape` parameter can be passed as a dictionary of atomic shapes indexed by vertices. Systems are binary by default, other constant integer values `shape=n` being interpreted as $E_i = \\{0, \\dots, n-1\\}$ for all $i$. \n"
   ]
  },
  {
   "cell_type": "markdown",
   "metadata": {},
   "source": [
    "## Fields \n",
    "\n",
    "Degree-$p$ _fields_ $\\varphi \\in A_p$ are represented by dictionaries mapping every chain $\\alpha_0\\dots \\alpha_p$ in `K[p]` to a tensor representing a local function on $E_{\\alpha_p}$: \n",
    "\n",
    "$$ A_p = \\prod_{\\alpha_0 \\supset \\dots \\supset \\alpha_p} {\\mathbb R}^{E_{\\alpha_p}} \n",
    "= \\prod_{\\alpha_0 \\supset \\dots \\supset \\alpha_p} A_{\\alpha_p} $$\n",
    "\n",
    "Degree-0 fields or _potentials_ $u \\in A_0$ are therefore collections of local functions $u_\\alpha(x_\\alpha)$ indexed by faces $\\alpha$ of $K$. \n",
    "\n",
    "Degree-1 fields or _fluxes_ $\\varphi \\in A_1$ are collections of local functions $\\varphi_{\\alpha\\beta}(x_\\beta)$ \n",
    "indexed by pairs $\\alpha \\supset \\beta$ in $K$. \n",
    "\n",
    "Degree-$p$ fields can be created by calling `K.gaussian(p)` or `K.zeros(p)`, which return `Tensor` instances."
   ]
  },
  {
   "cell_type": "code",
   "execution_count": 4,
   "metadata": {},
   "outputs": [
    {
     "data": {
      "text/plain": [
       "Tensor {\n",
       "(i:j:k) . (i:k) . (k) :-> tensor([-0.2648,  0.4017])\n",
       "(i:j:k) . (j:k) . (k) :-> tensor([ 0.2612, -0.8782])\n",
       "(i:k:l) . (i:k) . (k) :-> tensor([ 2.0694, -0.7425])\n",
       "(i:k:l) . (k:l) . (k) :-> tensor([-1.6884,  0.3341])\n",
       "(j:k:l) . (j:k) . (k) :-> tensor([-0.0427, -1.2824])\n",
       "(j:k:l) . (k:l) . (k) :-> tensor([1.3802, 0.3822])\n",
       "}"
      ]
     },
     "execution_count": 4,
     "metadata": {},
     "output_type": "execute_result"
    }
   ],
   "source": [
    "# 2-Field:\n",
    "K.gaussian(2)"
   ]
  },
  {
   "cell_type": "markdown",
   "metadata": {},
   "source": [
    "Natural operators on $K$ are also represented as higher dimensional tensors: \n",
    "\n",
    "### differential and codifferential\n",
    "\n",
    "$-$ The two adjoint _differentials_ $d = \\delta^*$ for the canonical metric on $A_\\bullet$ are returned `K.d(n)` and `K.delta(n + 1)`, where $d^{(n)} : A_n \\to  A_{n+1}$ elevates and $\\delta^{(n+1)} : A_{n+1} \\to A_n$ lowers field degrees. They satisfy $d \\circ d = 0 = \\delta \\circ \\delta$ as operators on the full complex $A_\\bullet = \\oplus_n A_n$. The degree $0$ differential $d$ acts on a density $q \\in A_0$ by: \n",
    "\n",
    "$$ (q_\\alpha) \\mapsto (dq_{\\alpha\\beta}) \\quad{\\rm where}\\quad \n",
    "dq_{\\alpha\\beta}(x_\\beta) = q_\\beta(x_\\beta) - \\sum_{y \\in E_{\\alpha\\setminus \\beta}} q_\\alpha(x_\\beta, y) $$ \n",
    "\n",
    "measuring the inconsistency between local beliefs and marginals from their parent faces. _Consistent beliefs_ \n",
    "$q \\in \\Gamma$ are local probability measures $q_\\alpha \\in {\\rm Prob}(E_\\alpha)$ indexed by $\\alpha \\in K$, satisfying the consistency constraint $dq = 0$."
   ]
  },
  {
   "cell_type": "markdown",
   "metadata": {},
   "source": [
    "### combinatorial automorphisms\n",
    "\n",
    "$-$ The fundamental _automorphisms_ $\\zeta$ and $\\mu$ induced by the order $\\supseteq$ on $K$\n",
    "are returned by `K.zeta(n)` and `K.mu(n)`, where $\\zeta^{(n)} : A_n \\to A_n$ is inverted by $\\mu^{(n)}$.\n",
    "The zeta transorm, initially introduced in number theory by Dirichlet, and Möbius inversion formulas are related inclusion-exclusion principles in combinatorics. The correspondence $\\zeta : A_0 \\to A_0$ defined by: \n",
    "\n",
    "$$(u_\\beta) \\mapsto (U_\\alpha) \\quad{\\rm where}\\quad U_\\alpha(x_\\alpha) = \\sum_{\\beta \\subseteq \\alpha} u_\\beta(x_\\beta)$$ \n",
    "\n",
    "is therefore invertible by $\\mu : A_0 \\to A_0$."
   ]
  },
  {
   "cell_type": "markdown",
   "metadata": {},
   "source": [
    "## Diffusion\n",
    "\n",
    "Diffusions are associated to transport equations on potentials $u \\in A_0$ for smooth flux functionals \n",
    "$\\Phi : A_0 \\to A_1$ of the form:\n",
    "\n",
    "$$ \\frac {du_\\beta} {dt}(x_\\beta) = \n",
    "\\sum_{\\alpha \\supset \\beta} \\Phi(u)_{\\alpha\\beta}(x_\\beta) \n",
    "- \\sum_{\\gamma \\subset \\beta} \\Phi(u)_{\\beta\\gamma}(x_\\gamma)$$ \n",
    "\n",
    "or written more succintly as $\\dot u = \\delta \\Phi(u)$, \n",
    "where the _divergence_ operator $\\delta : A_1 \\to A_0$ conserves the total energy $\\sum_\\alpha u_\\alpha$. \n",
    "\n",
    "Given a time-step $\\varepsilon > 0$, diffusion algorithms consist\n",
    "of iterating $u$ `+=` $\\varepsilon \\cdot \\delta \\Phi(u)$ until the local beliefs defined by:\n",
    "$$ q_\\alpha(x_\\alpha) = \\frac 1 {Z_\\alpha} {\\rm e}^{-U_\\alpha(x_\\alpha)}\n",
    "\\quad{\\rm where}\\quad U_\\alpha = \\sum_{\\beta \\subseteq \\alpha}u_\\beta $$\n",
    "eventually reach a consistent stationary state $q \\in \\Gamma$. "
   ]
  },
  {
   "cell_type": "markdown",
   "metadata": {},
   "source": [
    "### flux functionals\n",
    "\n",
    "Different flux functionals $\\Phi : A_0 \\to A_1$ \n",
    "can be used to that end, provided they vanish on the preimage $A_0^\\Gamma \\subset A_0$ of $\\Gamma$, and preferably _only_ on $A_0^\\Gamma$. \n",
    "\n",
    "Such functionals are generally constructed by compositions of the _effective energy gradient_ \n",
    "${\\cal D} : A_0 \\to A_1$, acting on local hamiltonians $U \\in A_0$ by: \n",
    "\n",
    "$$ {\\cal D} U_{\\alpha\\beta}(x_\\beta) = U_\\beta(x_\\beta) \n",
    "+ \\ln \\sum_{y \\in E_{\\alpha \\setminus \\beta}} {\\rm e}^{-U_\\alpha(x_\\beta, y)} $$\n",
    "\n",
    "$-$ Bethe $\\varepsilon$-diffusion consists of iterating $u$ `+=` $\\varepsilon \\cdot \\delta \\phi(u)$ with: \n",
    "\n",
    "$$ \\phi_{\\alpha\\beta}(x_\\beta) = c_\\alpha \\Phi_{\\alpha\\beta}(x_\\beta) $$\n",
    "\n",
    "The Bethe numbers are related to inclusion-exclusion principles on $K$ and eliminate redundant components in\n",
    "GBP heat flux $\\Phi$. Both algorithms are available as `Diffusion` instances from the integrator module. "
   ]
  },
  {
   "cell_type": "markdown",
   "metadata": {},
   "source": [
    "The Bethe numbers $c_\\beta \\in {\\mathbb Z}$ are the unique scalar coefficients on $K$ satisfying for all $\\beta$: \n",
    "\n",
    "$$\\sum_{\\alpha \\supseteq \\beta} c_\\alpha = 1$$"
   ]
  },
  {
   "cell_type": "code",
   "execution_count": 5,
   "metadata": {},
   "outputs": [],
   "source": [
    "# K.bethe"
   ]
  },
  {
   "cell_type": "markdown",
   "metadata": {},
   "source": [
    "---\n",
    "\n",
    "* * * "
   ]
  },
  {
   "cell_type": "code",
   "execution_count": 15,
   "metadata": {},
   "outputs": [],
   "source": [
    "from functional import Functional\n",
    "from tensor import Tensor\n",
    "from dict import Dict\n",
    "\n",
    "d, delta = K.D[0], K.Delta[1]\n",
    "zeta, mu1 = K.Zeta[0], K.Mu[1]\n",
    "\n",
    "DF = K.Deff[0]"
   ]
  },
  {
   "cell_type": "code",
   "execution_count": 16,
   "metadata": {},
   "outputs": [],
   "source": [
    "def diffusion(D, normalise=False):\n",
    "    Z = zeta\n",
    "    if normalise: \n",
    "        N = Functional({\n",
    "            (a|a): lambda Ua: Ua - K.F[a](Ua) for _, a in K.N[0]\n",
    "        }).curry()\n",
    "        Z = N @ zeta\n",
    "    out = Dict()\n",
    "    out.potential = -1 * delta @ D @ zeta\n",
    "    out.energy = -1 *  zeta @ delta @ D\n",
    "    Phi = -1 * D @ zeta\n",
    "    out.flux = lambda u: lambda phi: Phi(u + delta(phi))\n",
    "    return out\n",
    "\n",
    "# GBP diffusion\n",
    "GBP = diffusion(DF, normalise=True)\n",
    "\n",
    "# Diffusion with Möbius inversion on messages\n",
    "mu1 = K.Mu[1]\n",
    "muGBP = diffusion(mu1 @ DF)"
   ]
  },
  {
   "cell_type": "code",
   "execution_count": 17,
   "metadata": {},
   "outputs": [],
   "source": [
    "Nit = 10\n",
    "def integrate(u0, rate=0.5, N=Nit, diffusion=GBP):\n",
    "    flux = diffusion.flux(u0)\n",
    "    phi = K.zeros(1)\n",
    "    out = Dict({\n",
    "        'phi': [Tensor() for i in range(Nit)],\n",
    "        'dphi': [Tensor() for i in range(Nit)]\n",
    "    })\n",
    "    for t in range(Nit):\n",
    "        dphi = flux(phi)\n",
    "        phi = phi + rate * dphi\n",
    "        out.dphi += [dphi]\n",
    "        out.phi += [phi]\n",
    "    return out\n"
   ]
  },
  {
   "cell_type": "code",
   "execution_count": 18,
   "metadata": {},
   "outputs": [],
   "source": [
    "import matplotlib.pyplot as plt"
   ]
  },
  {
   "cell_type": "code",
   "execution_count": 19,
   "metadata": {},
   "outputs": [
    {
     "ename": "TypeError",
     "evalue": "'function' object is not iterable",
     "output_type": "error",
     "traceback": [
      "\u001b[0;31m---------------------------------------------------------------------------\u001b[0m",
      "\u001b[0;31mTypeError\u001b[0m                                 Traceback (most recent call last)",
      "\u001b[0;32m<ipython-input-19-667b6aef046c>\u001b[0m in \u001b[0;36m<module>\u001b[0;34m\u001b[0m\n\u001b[1;32m      5\u001b[0m \u001b[0;34m\u001b[0m\u001b[0m\n\u001b[1;32m      6\u001b[0m \u001b[0mx\u001b[0m \u001b[0;34m=\u001b[0m \u001b[0;34m[\u001b[0m\u001b[0mi\u001b[0m \u001b[0;32mfor\u001b[0m \u001b[0mi\u001b[0m \u001b[0;32min\u001b[0m \u001b[0mrange\u001b[0m\u001b[0;34m(\u001b[0m\u001b[0mNit\u001b[0m\u001b[0;34m)\u001b[0m\u001b[0;34m]\u001b[0m\u001b[0;34m\u001b[0m\u001b[0;34m\u001b[0m\u001b[0m\n\u001b[0;32m----> 7\u001b[0;31m \u001b[0my\u001b[0m \u001b[0;34m=\u001b[0m \u001b[0;34m[\u001b[0m\u001b[0mpsi\u001b[0m\u001b[0;34m.\u001b[0m\u001b[0mnorm\u001b[0m\u001b[0;34m(\u001b[0m\u001b[0;34m)\u001b[0m \u001b[0;32mfor\u001b[0m \u001b[0mpsi\u001b[0m \u001b[0;32min\u001b[0m \u001b[0morbit1\u001b[0m\u001b[0;34m.\u001b[0m\u001b[0mdphi\u001b[0m\u001b[0;34m]\u001b[0m\u001b[0;34m\u001b[0m\u001b[0;34m\u001b[0m\u001b[0m\n\u001b[0m\u001b[1;32m      8\u001b[0m \u001b[0mz\u001b[0m \u001b[0;34m=\u001b[0m \u001b[0;34m[\u001b[0m\u001b[0mpsi\u001b[0m\u001b[0;34m.\u001b[0m\u001b[0mnorm\u001b[0m\u001b[0;34m(\u001b[0m\u001b[0;34m)\u001b[0m \u001b[0;32mfor\u001b[0m \u001b[0mpsi\u001b[0m \u001b[0;32min\u001b[0m \u001b[0morbit2\u001b[0m\u001b[0;34m.\u001b[0m\u001b[0mdphi\u001b[0m\u001b[0;34m]\u001b[0m\u001b[0;34m\u001b[0m\u001b[0;34m\u001b[0m\u001b[0m\n\u001b[1;32m      9\u001b[0m \u001b[0mplt\u001b[0m\u001b[0;34m.\u001b[0m\u001b[0mplot\u001b[0m\u001b[0;34m(\u001b[0m\u001b[0mx\u001b[0m\u001b[0;34m,\u001b[0m \u001b[0my\u001b[0m\u001b[0;34m,\u001b[0m \u001b[0mcolor\u001b[0m\u001b[0;34m=\u001b[0m\u001b[0;34m\"blue\"\u001b[0m\u001b[0;34m)\u001b[0m\u001b[0;34m\u001b[0m\u001b[0;34m\u001b[0m\u001b[0m\n",
      "\u001b[0;32m<ipython-input-19-667b6aef046c>\u001b[0m in \u001b[0;36m<listcomp>\u001b[0;34m(.0)\u001b[0m\n\u001b[1;32m      5\u001b[0m \u001b[0;34m\u001b[0m\u001b[0m\n\u001b[1;32m      6\u001b[0m \u001b[0mx\u001b[0m \u001b[0;34m=\u001b[0m \u001b[0;34m[\u001b[0m\u001b[0mi\u001b[0m \u001b[0;32mfor\u001b[0m \u001b[0mi\u001b[0m \u001b[0;32min\u001b[0m \u001b[0mrange\u001b[0m\u001b[0;34m(\u001b[0m\u001b[0mNit\u001b[0m\u001b[0;34m)\u001b[0m\u001b[0;34m]\u001b[0m\u001b[0;34m\u001b[0m\u001b[0;34m\u001b[0m\u001b[0m\n\u001b[0;32m----> 7\u001b[0;31m \u001b[0my\u001b[0m \u001b[0;34m=\u001b[0m \u001b[0;34m[\u001b[0m\u001b[0mpsi\u001b[0m\u001b[0;34m.\u001b[0m\u001b[0mnorm\u001b[0m\u001b[0;34m(\u001b[0m\u001b[0;34m)\u001b[0m \u001b[0;32mfor\u001b[0m \u001b[0mpsi\u001b[0m \u001b[0;32min\u001b[0m \u001b[0morbit1\u001b[0m\u001b[0;34m.\u001b[0m\u001b[0mdphi\u001b[0m\u001b[0;34m]\u001b[0m\u001b[0;34m\u001b[0m\u001b[0;34m\u001b[0m\u001b[0m\n\u001b[0m\u001b[1;32m      8\u001b[0m \u001b[0mz\u001b[0m \u001b[0;34m=\u001b[0m \u001b[0;34m[\u001b[0m\u001b[0mpsi\u001b[0m\u001b[0;34m.\u001b[0m\u001b[0mnorm\u001b[0m\u001b[0;34m(\u001b[0m\u001b[0;34m)\u001b[0m \u001b[0;32mfor\u001b[0m \u001b[0mpsi\u001b[0m \u001b[0;32min\u001b[0m \u001b[0morbit2\u001b[0m\u001b[0;34m.\u001b[0m\u001b[0mdphi\u001b[0m\u001b[0;34m]\u001b[0m\u001b[0;34m\u001b[0m\u001b[0;34m\u001b[0m\u001b[0m\n\u001b[1;32m      9\u001b[0m \u001b[0mplt\u001b[0m\u001b[0;34m.\u001b[0m\u001b[0mplot\u001b[0m\u001b[0;34m(\u001b[0m\u001b[0mx\u001b[0m\u001b[0;34m,\u001b[0m \u001b[0my\u001b[0m\u001b[0;34m,\u001b[0m \u001b[0mcolor\u001b[0m\u001b[0;34m=\u001b[0m\u001b[0;34m\"blue\"\u001b[0m\u001b[0;34m)\u001b[0m\u001b[0;34m\u001b[0m\u001b[0;34m\u001b[0m\u001b[0m\n",
      "\u001b[0;32m~/diffusion/src/tensor.py\u001b[0m in \u001b[0;36mnorm\u001b[0;34m(self)\u001b[0m\n\u001b[1;32m     59\u001b[0m     \u001b[0;32mdef\u001b[0m \u001b[0mnorm\u001b[0m\u001b[0;34m(\u001b[0m\u001b[0mself\u001b[0m\u001b[0;34m)\u001b[0m\u001b[0;34m:\u001b[0m\u001b[0;34m\u001b[0m\u001b[0;34m\u001b[0m\u001b[0m\n\u001b[1;32m     60\u001b[0m         \u001b[0mn2\u001b[0m \u001b[0;34m=\u001b[0m \u001b[0mself\u001b[0m\u001b[0;34m.\u001b[0m\u001b[0msqnorm\u001b[0m\u001b[0;34m(\u001b[0m\u001b[0;34m)\u001b[0m\u001b[0;34m\u001b[0m\u001b[0;34m\u001b[0m\u001b[0m\n\u001b[0;32m---> 61\u001b[0;31m         \u001b[0;32mreturn\u001b[0m \u001b[0mtorch\u001b[0m\u001b[0;34m.\u001b[0m\u001b[0msqrt\u001b[0m\u001b[0;34m(\u001b[0m\u001b[0mn2\u001b[0m\u001b[0;34m)\u001b[0m \u001b[0;32mif\u001b[0m \u001b[0misinstance\u001b[0m\u001b[0;34m(\u001b[0m\u001b[0mt\u001b[0m\u001b[0;34m,\u001b[0m \u001b[0mtorch\u001b[0m\u001b[0;34m.\u001b[0m\u001b[0mTensor\u001b[0m\u001b[0;34m)\u001b[0m\u001b[0;31m\\\u001b[0m\u001b[0;34m\u001b[0m\u001b[0;34m\u001b[0m\u001b[0m\n\u001b[0m\u001b[1;32m     62\u001b[0m             \u001b[0;32melse\u001b[0m \u001b[0msqrt\u001b[0m\u001b[0;34m(\u001b[0m\u001b[0mn2\u001b[0m\u001b[0;34m)\u001b[0m\u001b[0;34m\u001b[0m\u001b[0;34m\u001b[0m\u001b[0m\n\u001b[1;32m     63\u001b[0m \u001b[0;34m\u001b[0m\u001b[0m\n",
      "\u001b[0;32m~/diffusion/src/tensor.py\u001b[0m in \u001b[0;36msqnorm\u001b[0;34m(self)\u001b[0m\n\u001b[1;32m     56\u001b[0m         \u001b[0msquares\u001b[0m \u001b[0;34m=\u001b[0m \u001b[0mself\u001b[0m\u001b[0;34m.\u001b[0m\u001b[0mfmap\u001b[0m\u001b[0;34m(\u001b[0m\u001b[0mn2\u001b[0m\u001b[0;34m)\u001b[0m\u001b[0;34m\u001b[0m\u001b[0;34m\u001b[0m\u001b[0m\n\u001b[1;32m     57\u001b[0m         \u001b[0;32mreturn\u001b[0m \u001b[0msum\u001b[0m\u001b[0;34m(\u001b[0m\u001b[0mni\u001b[0m \u001b[0;32mfor\u001b[0m \u001b[0mni\u001b[0m\u001b[0;34m,\u001b[0m \u001b[0mi\u001b[0m \u001b[0;32min\u001b[0m \u001b[0msquares\u001b[0m\u001b[0;34m)\u001b[0m\u001b[0;34m\u001b[0m\u001b[0;34m\u001b[0m\u001b[0m\n\u001b[0;32m---> 58\u001b[0;31m \u001b[0;34m\u001b[0m\u001b[0m\n\u001b[0m\u001b[1;32m     59\u001b[0m     \u001b[0;32mdef\u001b[0m \u001b[0mnorm\u001b[0m\u001b[0;34m(\u001b[0m\u001b[0mself\u001b[0m\u001b[0;34m)\u001b[0m\u001b[0;34m:\u001b[0m\u001b[0;34m\u001b[0m\u001b[0;34m\u001b[0m\u001b[0m\n\u001b[1;32m     60\u001b[0m         \u001b[0mn2\u001b[0m \u001b[0;34m=\u001b[0m \u001b[0mself\u001b[0m\u001b[0;34m.\u001b[0m\u001b[0msqnorm\u001b[0m\u001b[0;34m(\u001b[0m\u001b[0;34m)\u001b[0m\u001b[0;34m\u001b[0m\u001b[0;34m\u001b[0m\u001b[0m\n",
      "\u001b[0;31mTypeError\u001b[0m: 'function' object is not iterable"
     ]
    }
   ],
   "source": [
    "u0 = 10 * K.gaussian(0)\n",
    "\n",
    "orbit1 = integrate(u0)\n",
    "orbit2 = integrate(u0, diffusion=muGBP)\n",
    "\n",
    "x = [i for i in range(Nit)]\n",
    "y = [psi.norm() for psi in orbit1.dphi]\n",
    "z = [psi.norm() for psi in orbit2.dphi]\n",
    "plt.plot(x, y, color=\"blue\")\n",
    "plt.plot(x, z, color=\"red\")"
   ]
  },
  {
   "cell_type": "code",
   "execution_count": 170,
   "metadata": {},
   "outputs": [],
   "source": [
    "def convergenceRatio(u0, rate=0.5, N=Nit, diffusion=GBP):\n",
    "    flux = diffusion.flux(u0)\n",
    "    phi = K.zeros(1)\n",
    "    dphi = flux(phi)\n",
    "    DZ = DF @ zeta\n",
    "    D0 = DZ(u + delta(phi))\n",
    "    for t in range(Nit - 1):\n",
    "        phi += rate * dphi\n",
    "        dphi = flux(phi)    \n",
    "    D1 = DZ(u + delta(phi))\n",
    "    return D1.norm()/D0.norm()"
   ]
  },
  {
   "cell_type": "code",
   "execution_count": 181,
   "metadata": {},
   "outputs": [],
   "source": [
    "from time import time \n",
    "import itertools as it\n",
    "\n",
    "table = Dict()\n",
    "rates = [0.1, 0.2, 0.3, 0.4, 0.5, 0.6, 0.7, 0.8]\n",
    "\n",
    "samples = 20"
   ]
  },
  {
   "cell_type": "code",
   "execution_count": 182,
   "metadata": {},
   "outputs": [
    {
     "name": "stdout",
     "output_type": "stream",
     "text": [
      "completed 1600 iterations in 89.29543781280518 ms\n",
      "(0.055809648633003237 ms/it)\n"
     ]
    }
   ],
   "source": [
    "beta = 1\n",
    "\n",
    "t0 = time()\n",
    "N = len(rates) * Nit * samples\n",
    "\n",
    "for r in rates:\n",
    "    table[r] = [[], []]\n",
    "    for s in range(samples):\n",
    "        u = b * K.gaussian(0)\n",
    "        table[r][0] += [float(convergenceRatio(u, rate=r, N=10, diffusion=GBP))]\n",
    "        table[r][1] += [float(convergenceRatio(u, rate=r, N=10, diffusion=muGBP))]\n",
    "        \n",
    "t1 = time()\n",
    "print(f\"completed {N} iterations in {t1 - t0} s\\n({(t1-t0) * 1000/N:.2f} ms/it)\")"
   ]
  },
  {
   "cell_type": "code",
   "execution_count": 183,
   "metadata": {},
   "outputs": [
    {
     "data": {
      "text/plain": [
       "Dict {\n",
       "(0.1, 10) :\n",
       " [[inf, nan, 0.04358868673443794, 0.08636733889579773, 0.1094738095998764, 0.1442776620388031, 0.14525574445724487, 0.05032978951931, 0.09571118652820587, 0.13147374987602234, 0.08738991618156433, 0.10699541121721268, 0.11599120497703552, nan, nan, 0.1583564132452011, 0.1502697616815567, 0.10645894706249237, 0.1356547474861145, 0.09901322424411774], [0.07449230551719666, 0.05053725838661194, 0.06494037061929703, 0.11738543212413788, 0.0670117512345314, 0.05429690331220627, 0.054733745753765106, 0.030095215886831284, 0.035359885543584824, 0.04497769474983215, 0.04668306186795235, 0.047695375978946686, 0.10616730898618698, 0.08807498216629028, 0.04468964785337448, 0.08037953823804855, 0.05010607838630676, 0.06315556168556213, 0.03281337395310402, 0.054489556699991226]]\n",
       "\n",
       "(0.2, 10) :\n",
       " [[0.016049614176154137, 0.030698053538799286, nan, nan, 0.024376781657338142, nan, nan, 0.023641932755708694, nan, nan, nan, nan, nan, nan, nan, nan, 0.05798473209142685, 0.03543952479958534, 0.0451459102332592, nan], [0.004974722396582365, 0.003195387776941061, 0.0018994385609403253, 0.011762241832911968, 0.003182498039677739, 0.0016386120114475489, 0.0074247620068490505, 0.006916935555636883, 0.010684747248888016, 0.011804653331637383, 0.003536084434017539, 0.00418258598074317, 0.010356220416724682, 0.009653950110077858, 0.006992421578615904, 0.006865097675472498, 0.006841065362095833, 0.010361990891397, 0.00860234722495079, 0.005989415105432272]]\n",
       "\n",
       "(0.3, 10) :\n",
       " [[0.10875288397073746, nan, nan, nan, nan, nan, 0.1141846552491188, nan, nan, nan, 0.10540271550416946, 0.1001819521188736, 0.20557625591754913, 0.11512812972068787, 0.13472168147563934, 0.10088710486888885, nan, 0.09933282434940338, nan, nan], [0.001064844778738916, 0.00020600650168489665, 0.00025342090521007776, 0.0005574680981226265, 0.0006920156301930547, 0.0014180000871419907, 0.0029774124268442392, 0.0005758817424066365, 0.0006054804543964565, 0.002043965505436063, 0.0037790436763316393, 0.00237635662779212, 0.0007314712856896222, 0.0006312068435363472, 0.000621858867816627, 0.0030451163183897734, 0.0011424262775108218, 0.001907645259052515, 0.0006716835196129978, 0.0002756004687398672]]\n",
       "\n",
       "(0.4, 10) :\n",
       " [[nan, nan, 0.32987478375434875, nan, 0.6256635189056396, nan, nan, 0.2102825790643692, nan, nan, nan, nan, 0.22523783147335052, nan, nan, 0.3463371694087982, 0.3341296315193176, nan, 0.44607821106910706, 0.421850323677063], [0.000980442389845848, 0.0009455727995373309, 0.003028432372957468, 0.0006236833869479597, 0.004279182292521, 0.0017410236177965999, 0.001119123655371368, 0.0038730825763195753, 0.0015581274637952447, 0.0003589229891076684, 0.0005801282823085785, 0.0016277830582112074, 0.0011869247537106276, 0.0005535314558073878, 0.0003014037210959941, 0.0024983822368085384, 0.003613173495978117, 0.0009245810215361416, 0.0018119611777365208, 0.0014108273899182677]]\n",
       "\n",
       "(0.5, 10) :\n",
       " [[nan, nan, nan, nan, nan, nan, nan, nan, nan, nan, nan, nan, nan, nan, nan, nan, nan, nan, nan, nan], [0.0013839886523783207, 0.0013126512058079243, 0.0025350647047162056, 0.0008694581338204443, 0.0010267742909491062, 0.0013713191729038954, 0.0005473080673255026, 0.002178765134885907, 0.0023681577295064926, 0.0020856319461017847, 0.0019960016943514347, 0.001340289250947535, 0.00218325131572783, 0.0012882379814982414, 0.001444054301828146, 0.0009240987128578126, 0.0012656917097046971, 0.00552748516201973, 0.000909398659132421, 0.0013092431472614408]]\n",
       "\n",
       "(0.6, 10) :\n",
       " [[nan, nan, nan, nan, nan, nan, nan, nan, nan, nan, nan, nan, nan, nan, nan, nan, nan, nan, nan, nan], [0.007238084450364113, 0.006567307282239199, 0.004921451210975647, 0.008217918686568737, 0.014131918549537659, 0.00903671607375145, 0.008028990589082241, 0.010206557810306549, 0.019811568781733513, 0.006628076545894146, 0.009773943573236465, 0.008441301062703133, 0.008112868294119835, 0.004257191903889179, 0.013402040116488934, 0.008433517068624496, 0.008308541029691696, 0.006588082294911146, 0.009006038308143616, 0.004544698633253574]]\n",
       "\n",
       "(0.7, 10) :\n",
       " [[nan, nan, nan, nan, nan, nan, nan, nan, nan, nan, nan, nan, nan, nan, nan, nan, nan, nan, nan, nan], [2.629098415374756, 2.2369277477264404, 1.2971247434616089, 1.6089715957641602, 1.455687403678894, 0.9837165474891663, 1.2871367931365967, 1.8810560703277588, 1.570935845375061, 0.4340340495109558, 0.9773393273353577, 0.9787305593490601, 1.9097976684570312, nan, 1.8508509397506714, 2.00240421295166, 0.8489401340484619, 3.125962018966675, 3.4036192893981934, 1.5723246335983276]]\n",
       "\n",
       "(0.8, 10) :\n",
       " [[nan, nan, nan, nan, nan, nan, nan, nan, nan, nan, nan, nan, nan, nan, nan, nan, nan, nan, nan, nan], [nan, nan, nan, nan, nan, nan, nan, nan, nan, nan, nan, nan, nan, nan, nan, nan, nan, nan, nan, nan]]\n",
       "\n",
       "}"
      ]
     },
     "execution_count": 183,
     "metadata": {},
     "output_type": "execute_result"
    }
   ],
   "source": [
    "table"
   ]
  },
  {
   "cell_type": "code",
   "execution_count": 184,
   "metadata": {},
   "outputs": [],
   "source": [
    "import csv\n",
    "with open('convergence.csv', 'w', newline='') as file:\n",
    "    writer = csv.writer(file)\n",
    "    for r in rates: \n",
    "        for b in beta: \n",
    "            ratio = table[(r, b)]\n",
    "            writer.writerow(\n",
    "                [r, b, 1/b] \\\n",
    "                + [float(r) for r in ratio[0]] + [''] + [float(r) for r in ratio[1]] )\n",
    "        "
   ]
  },
  {
   "cell_type": "code",
   "execution_count": 31,
   "metadata": {},
   "outputs": [
    {
     "data": {
      "text/plain": [
       "'0.02'"
      ]
     },
     "execution_count": 31,
     "metadata": {},
     "output_type": "execute_result"
    }
   ],
   "source": [
    "f\"{0.02345:.2f}\"\n"
   ]
  },
  {
   "cell_type": "code",
   "execution_count": null,
   "metadata": {},
   "outputs": [],
   "source": []
  }
 ],
 "metadata": {
  "kernelspec": {
   "display_name": "Python 3",
   "language": "python",
   "name": "python3"
  },
  "language_info": {
   "codemirror_mode": {
    "name": "ipython",
    "version": 3
   },
   "file_extension": ".py",
   "mimetype": "text/x-python",
   "name": "python",
   "nbconvert_exporter": "python",
   "pygments_lexer": "ipython3",
   "version": "3.9.1"
  }
 },
 "nbformat": 4,
 "nbformat_minor": 4
}
