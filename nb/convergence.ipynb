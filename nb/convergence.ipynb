{
 "cells": [
  {
   "cell_type": "code",
   "execution_count": 1,
   "metadata": {},
   "outputs": [],
   "source": [
    "import nbsetup\n",
    "import torch\n",
    "import matplotlib.pyplot as plt\n",
    "\n",
    "from functional import Functional\n",
    "from tensor import Tensor\n",
    "from dict import Dict"
   ]
  },
  {
   "cell_type": "markdown",
   "metadata": {},
   "source": [
    "# Effect of diffusivity and temperature on convergence "
   ]
  },
  {
   "cell_type": "code",
   "execution_count": 2,
   "metadata": {},
   "outputs": [],
   "source": [
    "from system import System\n",
    "\n",
    "K = System(('i:j:k', 'i:k:l', 'j:k:l'))"
   ]
  },
  {
   "cell_type": "code",
   "execution_count": 3,
   "metadata": {},
   "outputs": [],
   "source": [
    "# Operators \n",
    "\n",
    "d, delta = K.D[0], K.Delta[1]\n",
    "zeta, mu1 = K.Zeta[0], K.Mu[1]\n",
    "\n",
    "DF = K.Deff[0]"
   ]
  },
  {
   "cell_type": "code",
   "execution_count": 4,
   "metadata": {},
   "outputs": [],
   "source": [
    "def diffusion(D, normalise=False):\n",
    "    Z = zeta\n",
    "    if normalise: \n",
    "        N = Functional({\n",
    "            (a|a): lambda Ua: Ua - K.F[a](Ua) for _, a in K.N[0]\n",
    "        }).curry()\n",
    "        Z = N @ zeta\n",
    "    out = Dict()\n",
    "    out.potential = -1 * delta @ D @ zeta\n",
    "    out.energy = -1 *  zeta @ delta @ D\n",
    "    Phi = -1 * D @ zeta\n",
    "    out.flux = lambda u: lambda phi: Phi(u + delta(phi))\n",
    "    return out\n",
    "\n",
    "# GBP diffusion\n",
    "GBP = diffusion(DF, normalise=True)\n",
    "\n",
    "# Diffusion with Möbius inversion on messages\n",
    "muGBP = diffusion(mu1 @ DF)"
   ]
  },
  {
   "cell_type": "code",
   "execution_count": 48,
   "metadata": {},
   "outputs": [],
   "source": [
    "Nit = 10\n",
    "def integrate(u0, rate=0.5, Nit=Nit, diffusion=GBP):\n",
    "    flux = diffusion.flux(u0)\n",
    "    phi = K.zeros(1)\n",
    "    out = Dict({\n",
    "        'phi': [Tensor() for i in range(Nit)],\n",
    "        'dphi': [Tensor() for i in range(Nit)]\n",
    "    })\n",
    "    for t in range(Nit):\n",
    "        dphi = flux(phi)\n",
    "        phi = phi + rate * dphi\n",
    "        out.dphi[t] = dphi\n",
    "        out.phi[t] = phi\n",
    "    return out"
   ]
  },
  {
   "cell_type": "code",
   "execution_count": 205,
   "metadata": {},
   "outputs": [
    {
     "data": {
      "text/plain": [
       "[<matplotlib.lines.Line2D at 0x7fded413bee0>]"
      ]
     },
     "execution_count": 205,
     "metadata": {},
     "output_type": "execute_result"
    },
    {
     "data": {
      "image/png": "[encoded data removed]",
      "text/plain": [
       "<Figure size 432x288 with 1 Axes>"
      ]
     },
     "metadata": {
      "needs_background": "light"
     },
     "output_type": "display_data"
    }
   ],
   "source": [
    "\"\"\" Plot heat flux norm over time \"\"\"\n",
    "\n",
    "# Temperature\n",
    "T = 0.00001\n",
    "u = (1/T) * K.gaussian(0) \n",
    "\n",
    "# 1: GBP diffusion\n",
    "orbit1 = integrate(u0, 0.1, 30)\n",
    "# 2: Bethe diffusion\n",
    "orbit2 = integrate(u0, 0.1, 30, muGBP)\n",
    "\n",
    "# norms\n",
    "t = [i for i in range(30)]\n",
    "n1 = [psi.norm() for psi in orbit1.dphi]\n",
    "n2 = [psi.norm() for psi in orbit2.dphi]\n",
    "\n",
    "plt.plot(t, n1, color=\"red\")\n",
    "plt.plot(t, n2, color=\"blue\")"
   ]
  },
  {
   "cell_type": "markdown",
   "metadata": {},
   "source": [
    "## Convergence Ratios"
   ]
  },
  {
   "cell_type": "code",
   "execution_count": 209,
   "metadata": {},
   "outputs": [],
   "source": [
    "def convergenceRatio(u0, rate=0.5, N=Nit, diffusion=GBP):\n",
    "    flux = diffusion.flux(u0)\n",
    "    phi = K.zeros(1)\n",
    "    dphi = flux(phi)\n",
    "    DZ = DF @ zeta\n",
    "    D0 = DZ(u0 + delta(phi))\n",
    "    for t in range(Nit - 1):\n",
    "        phi += rate * dphi\n",
    "        dphi = flux(phi)    \n",
    "    D1 = DZ(u0 + delta(phi))\n",
    "    return D1.norm()/D0.norm()"
   ]
  },
  {
   "cell_type": "code",
   "execution_count": 210,
   "metadata": {},
   "outputs": [],
   "source": [
    "from time import time \n",
    "\n",
    "table = Dict()"
   ]
  },
  {
   "cell_type": "code",
   "execution_count": 241,
   "metadata": {},
   "outputs": [
    {
     "name": "stdout",
     "output_type": "stream",
     "text": [
      "running 40 diffusions with 10 iterations per diffusivity:\n",
      "\t\tT = 1000000.0\n",
      "... 0.1\n",
      "... 0.2\n",
      "... 0.3\n",
      "... 0.4\n",
      "... 0.5\n",
      "... 0.6\n",
      "... 0.7\n",
      "... 0.8\n",
      "completed 1600 iterations in 117.20 s\n",
      "73.25 ms/it\n",
      "14 it/s\n"
     ]
    }
   ],
   "source": [
    "# Parameters\n",
    "T = 1e6\n",
    "beta = 1/T\n",
    "samples = 20\n",
    "rates = [0.1, 0.2, 0.3, 0.4, 0.5, 0.6, 0.7, 0.8]\n",
    "\n",
    "# Loop: \n",
    "\n",
    "t0 = time()\n",
    "N = len(rates) * Nit * samples\n",
    "\n",
    "print(f\"running {samples * 2} diffusions with {Nit} iterations per diffusivity:\")\n",
    "print(f\"\\t\\tT = {T}\")\n",
    "\n",
    "for r in rates:\n",
    "    table[r] = [[], []]\n",
    "    for s in range(samples):\n",
    "        u = beta * K.gaussian(0)\n",
    "        table[r][0] += [float(convergenceRatio(u, rate=r, N=10, diffusion=GBP))]\n",
    "        table[r][1] += [float(convergenceRatio(u, rate=r, N=10, diffusion=muGBP))]\n",
    "    print(f'... {r}')\n",
    "  \n",
    "t1 = time()\n",
    "print(f\"completed {N} iterations in {t1 - t0:.2f} s\")\n",
    "print(f'{(t1-t0) * 1000/N:.2f} ms/it')\n",
    "print(f'{N / (t1 - t0):.0f} it/s')"
   ]
  },
  {
   "cell_type": "code",
   "execution_count": 242,
   "metadata": {},
   "outputs": [
    {
     "name": "stdout",
     "output_type": "stream",
     "text": [
      "averages:\n",
      "[['0.43', '0.26', '0.47', '0.88', '2.31', '6.02', '26.38', '64.49'], ['0.15', '0.24', '0.34', '0.37', '0.38', '0.41', '1.18', '8.65']]\n",
      "convergent:\n",
      "[[0.0, 1.0, 0.0, 0.0, 0.0, 0.0, 0.0, 0.0], [1.0, 1.0, 1.0, 1.0, 1.0, 0.0, 0.0, 0.0]]\n"
     ]
    }
   ],
   "source": [
    "import csv\n",
    "\n",
    "threshold = 0.4\n",
    "\n",
    "filterCvg = lambda cs: [c for c in cs if c < threshold]\n",
    "percentCvg = lambda cs: float(len(filterCvg(cs))) / len(cs)\n",
    "avg = lambda cs: sum(c for c in cs) / len(cs)\n",
    "\n",
    "Cvg = table.fmap(\n",
    "    lambda orbits: [percentCvg(cs) for cs in orbits]\n",
    ")\n",
    "Avg = table.fmap(\n",
    "    lambda orbits: [f'{avg(cs):.2f}' for cs in orbits]\n",
    ")\n",
    "\n",
    "linesCvg = [[], []]\n",
    "linesAvg = [[], []]\n",
    "\n",
    "for r in rates: \n",
    "    \n",
    "    linesCvg[0] += [Cvg[r][0]]\n",
    "    linesCvg[1] += [Cvg[r][1]]\n",
    "    \n",
    "    linesAvg[0] += [Avg[r][0]]\n",
    "    linesAvg[1] += [Avg[r][1]]\n",
    "\n",
    "\n",
    "print(f\"averages:\")\n",
    "print(linesAvg)\n",
    "print(f\"convergent:\")\n",
    "print(linesCvg)"
   ]
  },
  {
   "cell_type": "code",
   "execution_count": 243,
   "metadata": {},
   "outputs": [
    {
     "name": "stdout",
     "output_type": "stream",
     "text": [
      "...\n",
      "wrote lines for T=1000000.0 threshold 0.4\n"
     ]
    }
   ],
   "source": [
    "T = 1. / beta\n",
    "file = f'data/cvg.csv'\n",
    "file2 = f'data/val.csv'\n",
    "\n",
    "print(\"...\")\n",
    "with open(file, 'a', newline='') as file:\n",
    "    writer = csv.writer(file)\n",
    "    writer.writerow([T, 'T', beta, 'beta', threshold, 'cut'])\n",
    "    writer.writerow(linesCvg[0])\n",
    "    writer.writerow(linesCvg[1])\n",
    "    writer.writerow(rates)\n",
    "    writer.writerow([])\n",
    "\n",
    "with open(file2, 'a', newline='') as file:\n",
    "    writer = csv.writer(file)\n",
    "    writer.writerow([T, 'T', beta, 'beta'])\n",
    "    writer.writerow(linesAvg[0])\n",
    "    writer.writerow(linesAvg[1])\n",
    "    writer.writerow(rates)\n",
    "    writer.writerow([])\n",
    "    \n",
    "print(f\"wrote lines for T={T} threshold {threshold}\")"
   ]
  },
  {
   "cell_type": "code",
   "execution_count": null,
   "metadata": {},
   "outputs": [],
   "source": []
  }
 ],
 "metadata": {
  "kernelspec": {
   "display_name": "Python 3",
   "language": "python",
   "name": "python3"
  },
  "language_info": {
   "codemirror_mode": {
    "name": "ipython",
    "version": 3
   },
   "file_extension": ".py",
   "mimetype": "text/x-python",
   "name": "python",
   "nbconvert_exporter": "python",
   "pygments_lexer": "ipython3",
   "version": "3.9.1"
  }
 },
 "nbformat": 4,
 "nbformat_minor": 4
}
